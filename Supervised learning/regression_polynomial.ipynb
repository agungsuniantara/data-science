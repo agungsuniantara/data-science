{
 "cells": [
  {
   "cell_type": "code",
   "execution_count": 6,
   "metadata": {},
   "outputs": [],
   "source": [
    "import pandas as pd\n",
    "from sklearn.model_selection import train_test_split\n",
    "from sklearn.preprocessing import StandardScaler\n",
    "from sklearn.preprocessing import PolynomialFeatures\n",
    "from sklearn.linear_model import LinearRegression\n",
    "\n",
    "df = pd.read_csv('death_clean.csv')\n",
    "\n",
    "x = df[['Cause', 'Type']]\n",
    "y = df['Total Deaths']\n",
    "\n",
    "x_encoded = pd.get_dummies(x, columns=['Cause', 'Type'])\n",
    "\n",
    "poly = PolynomialFeatures(degree=2)\n",
    "x_poly = poly.fit_transform(x_encoded)\n",
    "\n",
    "scaler = StandardScaler()\n",
    "y_norm = scaler.fit_transform(df[['Total Deaths']]).ravel() \n",
    "\n",
    "x_train_poly, x_test_poly, y_train, y_test = train_test_split(x_poly, y_norm, test_size=0.2, random_state=0)"
   ]
  },
  {
   "cell_type": "code",
   "execution_count": 7,
   "metadata": {},
   "outputs": [
    {
     "data": {
      "text/plain": [
       "array([-3.00781250e-01,  1.02887053e+13,  1.15625000e+00, -8.20312500e-01,\n",
       "       -3.12500000e-01, -4.84375000e-01, -3.63281250e-01,  1.15625000e+00,\n",
       "       -4.29687500e-01, -8.71093750e-01, -8.20312500e-01, -8.75000000e-01,\n",
       "       -6.52343750e-01, -5.79550279e+11, -4.57031250e-01,  6.00932037e+11,\n",
       "        2.31250000e+00, -5.54687500e-01,  2.04589967e+13,  6.64062500e-02,\n",
       "       -4.29687500e-01, -4.29687500e-01, -8.71093750e-01,  1.11718750e+00,\n",
       "       -4.60937500e-01,  2.04589967e+13, -4.25781250e-01,  3.96875000e+00,\n",
       "        1.17968750e+00,  5.41629783e+12, -1.56250000e-02, -7.81250000e-02,\n",
       "       -8.16406250e-01, -1.17187500e-02, -3.12500000e-01,  6.56250000e-01,\n",
       "        5.78125000e-01, -6.71875000e-01, -6.21093750e-01, -7.26562500e-01,\n",
       "        4.49218750e-01, -3.71093750e-01, -6.21093750e-01, -3.78906250e-01,\n",
       "       -9.10156250e-01, -1.56250000e-02, -3.32031250e-01, -4.84375000e-01,\n",
       "       -3.15249067e+12, -1.17187500e-02, -1.16572421e+13, -8.47656250e-01,\n",
       "        7.03125000e-02,  4.84375000e-01, -5.78125000e-01,  2.93750000e+00,\n",
       "        3.71875000e+00, -6.25000000e-01, -2.85937870e+12,  6.64062500e-02,\n",
       "       -4.29687500e-01, -5.54687500e-01, -3.08593750e-01,  1.15625000e+00,\n",
       "        4.80468750e-01, -4.84375000e-01,  4.55749743e+13, -5.78125000e-01,\n",
       "       -6.70856420e+13, -3.12500000e-01, -7.81250000e-02,  2.65625000e-01,\n",
       "        4.55749743e+13, -2.96875000e-01, -2.96875000e-01, -4.60937500e-01,\n",
       "       -2.96875000e-01, -6.91406250e-01, -2.10937500e-01,  4.84375000e-01,\n",
       "       -2.10937500e-01,  9.15258988e+12, -4.60937500e-01, -8.54332099e+12,\n",
       "       -8.02193198e+12, -8.04687500e-01, -6.25000000e-01,  5.43153497e+13,\n",
       "       -3.59375000e-01, -5.07812500e-01,  4.68750000e-02, -6.79687500e-01,\n",
       "       -1.48437500e-01,  5.78125000e-01, -6.77413664e+11, -2.81250000e-01,\n",
       "        1.11328125e+00,  3.71484375e+00,  3.22656250e+00, -6.79687500e-01,\n",
       "        3.23437500e+00, -5.39062500e-01, -8.32031250e-01, -7.26562500e-01,\n",
       "       -3.46316544e+12, -6.56250000e-01, -8.43750000e-01, -2.96875000e-01,\n",
       "       -8.71093750e-01, -8.04687500e-01])"
      ]
     },
     "execution_count": 7,
     "metadata": {},
     "output_type": "execute_result"
    }
   ],
   "source": [
    "model_poly = LinearRegression()\n",
    "model_poly.fit(x_train_poly, y_train)\n",
    "y_pred_poly = model_poly.predict(x_test_poly)\n",
    "y_pred_poly"
   ]
  },
  {
   "cell_type": "code",
   "execution_count": 8,
   "metadata": {},
   "outputs": [
    {
     "name": "stdout",
     "output_type": "stream",
     "text": [
      "Linear Polynomial : -1.2363662331101261e+26\n"
     ]
    }
   ],
   "source": [
    "rf_score = model_poly.score(x_test_poly, y_test)\n",
    "print(\"Linear Polynomial :\", rf_score)"
   ]
  }
 ],
 "metadata": {
  "kernelspec": {
   "display_name": ".venv",
   "language": "python",
   "name": "python3"
  },
  "language_info": {
   "codemirror_mode": {
    "name": "ipython",
    "version": 3
   },
   "file_extension": ".py",
   "mimetype": "text/x-python",
   "name": "python",
   "nbconvert_exporter": "python",
   "pygments_lexer": "ipython3",
   "version": "3.12.5"
  }
 },
 "nbformat": 4,
 "nbformat_minor": 2
}
